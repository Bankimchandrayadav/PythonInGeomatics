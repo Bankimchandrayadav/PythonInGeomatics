{
 "metadata": {
  "language_info": {
   "codemirror_mode": {
    "name": "ipython",
    "version": 3
   },
   "file_extension": ".py",
   "mimetype": "text/x-python",
   "name": "python",
   "nbconvert_exporter": "python",
   "pygments_lexer": "ipython3",
   "version": "3.8.5-final"
  },
  "orig_nbformat": 2,
  "kernelspec": {
   "name": "python3",
   "display_name": "Python 3",
   "language": "python"
  }
 },
 "nbformat": 4,
 "nbformat_minor": 2,
 "cells": [
  {
   "source": [
    "# Welcome message"
   ],
   "cell_type": "markdown",
   "metadata": {}
  },
  {
   "source": [
    "- [x]  Welcome to the webinar 'Python in Geomatics' where you will be engaged in hands on tutorials over the automation of routine tasks in Geomatics.\n",
    "- [x]  The webinar docs are converted into a series of notebooks where the users can demonstrate the processes **live on the webinar**\n",
    "- [x]  The webinar is hosted by Bankim Chandra Yadav, Research Scholar @ IIT Roorkee\n",
    "- **ORCID iD:** https://orcid.org/0000-0001-7288-0551 \n",
    "- **Google Scholar:** https://scholar.google.com/citations?user=6fJpxxQAAAAJ&hl=en&authuser=1  \n",
    "- **Github:** https://github.com/Bankimchandrayadav/PythonInGeomatics\n",
    "- **Twitter:** https://twitter.com/DrBCY  \n",
    "- **Recent Publication:** https://rmets.onlinelibrary.wiley.com/doi/10.1002/joc.6562"
   ],
   "cell_type": "markdown",
   "metadata": {}
  },
  {
   "source": [
    "## Digital followups:\n",
    "\n",
    "*Keep your queries posted at:*\n",
    "\n",
    "*Twitter: https://twitter.com/DrBCY*  \n",
    "*Outlook: bcyadav0808@outlook.com*  "
   ],
   "cell_type": "markdown",
   "metadata": {}
  },
  {
   "source": [],
   "cell_type": "markdown",
   "metadata": {}
  },
  {
   "source": [
    "![image info](../BCYadav.png)"
   ],
   "cell_type": "markdown",
   "metadata": {}
  },
  {
   "source": [
    "---\n",
    "---"
   ],
   "cell_type": "markdown",
   "metadata": {}
  },
  {
   "source": [
    "# Structure of webinar\n",
    "---\n",
    "---"
   ],
   "cell_type": "markdown",
   "metadata": {}
  },
  {
   "source": [
    "# 10:00 am – 10:15 am (15 mins): "
   ],
   "cell_type": "markdown",
   "metadata": {}
  },
  {
   "source": [
    "- [x]  Please start by downloading the directory which we will be using for the rest of the tutorial. https://github.com/Bankimchandrayadav/PythonInGeomatics\n",
    "- [x]  Download and Install Python 3.8.5 [https://www.python.org/ftp/python/3.8.5/python-3.8.5-amd64.exe]\n",
    "- [x]  Download and Install VSCode [https://aka.ms/win32-x64-user-stable]\n",
    "- [x]  Download and Install QGIS 3.16 [optional]\n",
    "- [x]  Set up environment variables (only setting pip, if required)\n",
    "- [x]  Open VSCode with administrator privileges\n",
    "- [x]  Open webinar directory in VSCode\n",
    "- [x]  Add notebooks from sidebar\n",
    "\n",
    "---\n",
    "---"
   ],
   "cell_type": "markdown",
   "metadata": {}
  },
  {
   "source": [
    "# 10:15 am – 10:55 am (40 mins):"
   ],
   "cell_type": "markdown",
   "metadata": {}
  },
  {
   "source": [
    "- [x] Notebook 0: Intro notebook introducing the layout\n",
    "- [x] Notebook 1: Handling data formats [netcdf taken here]\n",
    "- [x] Notebook 2: Conversion to tiff\n",
    "- [x] Notebook 3: Reprojection \n",
    "- [x] Notebook 4: Resampling \n",
    "- [x] Notebook 5: Clipping\n",
    "---\n",
    "---"
   ],
   "cell_type": "markdown",
   "metadata": {}
  },
  {
   "source": [
    "# 10:55 am – 11:00 am (05 mins):"
   ],
   "cell_type": "markdown",
   "metadata": {}
  },
  {
   "source": [
    "- [] Selective questions from audience\n",
    "---\n",
    "---"
   ],
   "cell_type": "markdown",
   "metadata": {}
  },
  {
   "source": [
    "# End\n",
    "---\n",
    "---"
   ],
   "cell_type": "markdown",
   "metadata": {}
  },
  {
   "source": [
    "# Bibliography : \n",
    "- http://xarray.pydata.org/en/stable/\n",
    "- https://rasterio.readthedocs.io/en/latest/quickstart.html\n",
    "- https://gdal.org/\n",
    "- https://gis.stackexchange.com/"
   ],
   "cell_type": "markdown",
   "metadata": {}
  },
  {
   "cell_type": "code",
   "execution_count": null,
   "metadata": {},
   "outputs": [],
   "source": []
  }
 ]
}